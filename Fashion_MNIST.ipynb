{
  "nbformat": 4,
  "nbformat_minor": 0,
  "metadata": {
    "colab": {
      "name": "Fashion MNIST.ipynb",
      "provenance": [],
      "collapsed_sections": [],
      "authorship_tag": "ABX9TyMkcrHoJs6MHx+vWuiAkRPw",
      "include_colab_link": true
    },
    "kernelspec": {
      "name": "python3",
      "display_name": "Python 3"
    },
    "language_info": {
      "name": "python"
    },
    "accelerator": "GPU",
    "gpuClass": "standard",
    "widgets": {
      "application/vnd.jupyter.widget-state+json": {
        "63ab7cb7b6894bd69b72ce6179527351": {
          "model_module": "@jupyter-widgets/controls",
          "model_name": "HBoxModel",
          "model_module_version": "1.5.0",
          "state": {
            "_dom_classes": [],
            "_model_module": "@jupyter-widgets/controls",
            "_model_module_version": "1.5.0",
            "_model_name": "HBoxModel",
            "_view_count": null,
            "_view_module": "@jupyter-widgets/controls",
            "_view_module_version": "1.5.0",
            "_view_name": "HBoxView",
            "box_style": "",
            "children": [
              "IPY_MODEL_44ef14aa10ec45d0a7dfd5ce760b2153",
              "IPY_MODEL_339b8fb9b301491aade1b6f055e8d78a",
              "IPY_MODEL_5d87db6f7aa64dde82007d6f9bf1eae0"
            ],
            "layout": "IPY_MODEL_d9ffdd3f48914ad1a6182c5f7f1e332a"
          }
        },
        "44ef14aa10ec45d0a7dfd5ce760b2153": {
          "model_module": "@jupyter-widgets/controls",
          "model_name": "HTMLModel",
          "model_module_version": "1.5.0",
          "state": {
            "_dom_classes": [],
            "_model_module": "@jupyter-widgets/controls",
            "_model_module_version": "1.5.0",
            "_model_name": "HTMLModel",
            "_view_count": null,
            "_view_module": "@jupyter-widgets/controls",
            "_view_module_version": "1.5.0",
            "_view_name": "HTMLView",
            "description": "",
            "description_tooltip": null,
            "layout": "IPY_MODEL_a6706c9615ed4db9befbe37e2fa3ab78",
            "placeholder": "​",
            "style": "IPY_MODEL_55bafbb4488441b4adba0a4d8804602d",
            "value": "100%"
          }
        },
        "339b8fb9b301491aade1b6f055e8d78a": {
          "model_module": "@jupyter-widgets/controls",
          "model_name": "FloatProgressModel",
          "model_module_version": "1.5.0",
          "state": {
            "_dom_classes": [],
            "_model_module": "@jupyter-widgets/controls",
            "_model_module_version": "1.5.0",
            "_model_name": "FloatProgressModel",
            "_view_count": null,
            "_view_module": "@jupyter-widgets/controls",
            "_view_module_version": "1.5.0",
            "_view_name": "ProgressView",
            "bar_style": "success",
            "description": "",
            "description_tooltip": null,
            "layout": "IPY_MODEL_05540327ffa743eca35746ec0ebff1d9",
            "max": 3,
            "min": 0,
            "orientation": "horizontal",
            "style": "IPY_MODEL_0199140b162f427cb38f52639020e0c4",
            "value": 3
          }
        },
        "5d87db6f7aa64dde82007d6f9bf1eae0": {
          "model_module": "@jupyter-widgets/controls",
          "model_name": "HTMLModel",
          "model_module_version": "1.5.0",
          "state": {
            "_dom_classes": [],
            "_model_module": "@jupyter-widgets/controls",
            "_model_module_version": "1.5.0",
            "_model_name": "HTMLModel",
            "_view_count": null,
            "_view_module": "@jupyter-widgets/controls",
            "_view_module_version": "1.5.0",
            "_view_name": "HTMLView",
            "description": "",
            "description_tooltip": null,
            "layout": "IPY_MODEL_a8d9a7ae9f9c49f39c54d4317581cf70",
            "placeholder": "​",
            "style": "IPY_MODEL_daf7201a4cd94655a6ab8b94f03bc529",
            "value": " 3/3 [00:31&lt;00:00, 10.35s/it]"
          }
        },
        "d9ffdd3f48914ad1a6182c5f7f1e332a": {
          "model_module": "@jupyter-widgets/base",
          "model_name": "LayoutModel",
          "model_module_version": "1.2.0",
          "state": {
            "_model_module": "@jupyter-widgets/base",
            "_model_module_version": "1.2.0",
            "_model_name": "LayoutModel",
            "_view_count": null,
            "_view_module": "@jupyter-widgets/base",
            "_view_module_version": "1.2.0",
            "_view_name": "LayoutView",
            "align_content": null,
            "align_items": null,
            "align_self": null,
            "border": null,
            "bottom": null,
            "display": null,
            "flex": null,
            "flex_flow": null,
            "grid_area": null,
            "grid_auto_columns": null,
            "grid_auto_flow": null,
            "grid_auto_rows": null,
            "grid_column": null,
            "grid_gap": null,
            "grid_row": null,
            "grid_template_areas": null,
            "grid_template_columns": null,
            "grid_template_rows": null,
            "height": null,
            "justify_content": null,
            "justify_items": null,
            "left": null,
            "margin": null,
            "max_height": null,
            "max_width": null,
            "min_height": null,
            "min_width": null,
            "object_fit": null,
            "object_position": null,
            "order": null,
            "overflow": null,
            "overflow_x": null,
            "overflow_y": null,
            "padding": null,
            "right": null,
            "top": null,
            "visibility": null,
            "width": null
          }
        },
        "a6706c9615ed4db9befbe37e2fa3ab78": {
          "model_module": "@jupyter-widgets/base",
          "model_name": "LayoutModel",
          "model_module_version": "1.2.0",
          "state": {
            "_model_module": "@jupyter-widgets/base",
            "_model_module_version": "1.2.0",
            "_model_name": "LayoutModel",
            "_view_count": null,
            "_view_module": "@jupyter-widgets/base",
            "_view_module_version": "1.2.0",
            "_view_name": "LayoutView",
            "align_content": null,
            "align_items": null,
            "align_self": null,
            "border": null,
            "bottom": null,
            "display": null,
            "flex": null,
            "flex_flow": null,
            "grid_area": null,
            "grid_auto_columns": null,
            "grid_auto_flow": null,
            "grid_auto_rows": null,
            "grid_column": null,
            "grid_gap": null,
            "grid_row": null,
            "grid_template_areas": null,
            "grid_template_columns": null,
            "grid_template_rows": null,
            "height": null,
            "justify_content": null,
            "justify_items": null,
            "left": null,
            "margin": null,
            "max_height": null,
            "max_width": null,
            "min_height": null,
            "min_width": null,
            "object_fit": null,
            "object_position": null,
            "order": null,
            "overflow": null,
            "overflow_x": null,
            "overflow_y": null,
            "padding": null,
            "right": null,
            "top": null,
            "visibility": null,
            "width": null
          }
        },
        "55bafbb4488441b4adba0a4d8804602d": {
          "model_module": "@jupyter-widgets/controls",
          "model_name": "DescriptionStyleModel",
          "model_module_version": "1.5.0",
          "state": {
            "_model_module": "@jupyter-widgets/controls",
            "_model_module_version": "1.5.0",
            "_model_name": "DescriptionStyleModel",
            "_view_count": null,
            "_view_module": "@jupyter-widgets/base",
            "_view_module_version": "1.2.0",
            "_view_name": "StyleView",
            "description_width": ""
          }
        },
        "05540327ffa743eca35746ec0ebff1d9": {
          "model_module": "@jupyter-widgets/base",
          "model_name": "LayoutModel",
          "model_module_version": "1.2.0",
          "state": {
            "_model_module": "@jupyter-widgets/base",
            "_model_module_version": "1.2.0",
            "_model_name": "LayoutModel",
            "_view_count": null,
            "_view_module": "@jupyter-widgets/base",
            "_view_module_version": "1.2.0",
            "_view_name": "LayoutView",
            "align_content": null,
            "align_items": null,
            "align_self": null,
            "border": null,
            "bottom": null,
            "display": null,
            "flex": null,
            "flex_flow": null,
            "grid_area": null,
            "grid_auto_columns": null,
            "grid_auto_flow": null,
            "grid_auto_rows": null,
            "grid_column": null,
            "grid_gap": null,
            "grid_row": null,
            "grid_template_areas": null,
            "grid_template_columns": null,
            "grid_template_rows": null,
            "height": null,
            "justify_content": null,
            "justify_items": null,
            "left": null,
            "margin": null,
            "max_height": null,
            "max_width": null,
            "min_height": null,
            "min_width": null,
            "object_fit": null,
            "object_position": null,
            "order": null,
            "overflow": null,
            "overflow_x": null,
            "overflow_y": null,
            "padding": null,
            "right": null,
            "top": null,
            "visibility": null,
            "width": null
          }
        },
        "0199140b162f427cb38f52639020e0c4": {
          "model_module": "@jupyter-widgets/controls",
          "model_name": "ProgressStyleModel",
          "model_module_version": "1.5.0",
          "state": {
            "_model_module": "@jupyter-widgets/controls",
            "_model_module_version": "1.5.0",
            "_model_name": "ProgressStyleModel",
            "_view_count": null,
            "_view_module": "@jupyter-widgets/base",
            "_view_module_version": "1.2.0",
            "_view_name": "StyleView",
            "bar_color": null,
            "description_width": ""
          }
        },
        "a8d9a7ae9f9c49f39c54d4317581cf70": {
          "model_module": "@jupyter-widgets/base",
          "model_name": "LayoutModel",
          "model_module_version": "1.2.0",
          "state": {
            "_model_module": "@jupyter-widgets/base",
            "_model_module_version": "1.2.0",
            "_model_name": "LayoutModel",
            "_view_count": null,
            "_view_module": "@jupyter-widgets/base",
            "_view_module_version": "1.2.0",
            "_view_name": "LayoutView",
            "align_content": null,
            "align_items": null,
            "align_self": null,
            "border": null,
            "bottom": null,
            "display": null,
            "flex": null,
            "flex_flow": null,
            "grid_area": null,
            "grid_auto_columns": null,
            "grid_auto_flow": null,
            "grid_auto_rows": null,
            "grid_column": null,
            "grid_gap": null,
            "grid_row": null,
            "grid_template_areas": null,
            "grid_template_columns": null,
            "grid_template_rows": null,
            "height": null,
            "justify_content": null,
            "justify_items": null,
            "left": null,
            "margin": null,
            "max_height": null,
            "max_width": null,
            "min_height": null,
            "min_width": null,
            "object_fit": null,
            "object_position": null,
            "order": null,
            "overflow": null,
            "overflow_x": null,
            "overflow_y": null,
            "padding": null,
            "right": null,
            "top": null,
            "visibility": null,
            "width": null
          }
        },
        "daf7201a4cd94655a6ab8b94f03bc529": {
          "model_module": "@jupyter-widgets/controls",
          "model_name": "DescriptionStyleModel",
          "model_module_version": "1.5.0",
          "state": {
            "_model_module": "@jupyter-widgets/controls",
            "_model_module_version": "1.5.0",
            "_model_name": "DescriptionStyleModel",
            "_view_count": null,
            "_view_module": "@jupyter-widgets/base",
            "_view_module_version": "1.2.0",
            "_view_name": "StyleView",
            "description_width": ""
          }
        }
      }
    }
  },
  "cells": [
    {
      "cell_type": "markdown",
      "metadata": {
        "id": "view-in-github",
        "colab_type": "text"
      },
      "source": [
        "<a href=\"https://colab.research.google.com/github/kashyap333/FashionMNIST_PyTorch/blob/main/Fashion_MNIST.ipynb\" target=\"_parent\"><img src=\"https://colab.research.google.com/assets/colab-badge.svg\" alt=\"Open In Colab\"/></a>"
      ]
    },
    {
      "cell_type": "code",
      "execution_count": 48,
      "metadata": {
        "id": "SJ6DmbE0q4eU"
      },
      "outputs": [],
      "source": [
        "import torch\n",
        "from torch import nn\n",
        "from torchvision import datasets, transforms\n",
        "from torch.utils.data import Dataset, DataLoader\n",
        "from matplotlib import pyplot as plt\n",
        "from torchvision import models\n",
        "from timeit import default_timer as timer\n",
        "import helper\n",
        "from pathlib import Path \n",
        "import requests\n",
        "from tqdm.auto import tqdm\n"
      ]
    },
    {
      "cell_type": "code",
      "source": [
        "if Path('Lazy_functions.py').is_file():\n",
        "  print('file already is in the directory')\n",
        "\n",
        "else:\n",
        "\n",
        "  request = requests.get('https://raw.githubusercontent.com/kashyap333/Lazy_functions/main/lazy_functions.py')\n",
        "\n",
        "\n",
        "  with open('lazy_functions.py', 'wb') as f:\n",
        "    f.write(request.content)\n",
        "\n",
        "from lazy_functions import plot_predictions, train_step, accuracy_fn, test_step, print_train_time"
      ],
      "metadata": {
        "id": "nDTo0OyRfsYp"
      },
      "execution_count": 49,
      "outputs": []
    },
    {
      "cell_type": "code",
      "source": [
        "device = 'cuda' if torch.cuda.is_available() else 'cpu'"
      ],
      "metadata": {
        "id": "RWRgcC47e2eL"
      },
      "execution_count": 50,
      "outputs": []
    },
    {
      "cell_type": "code",
      "source": [
        "training_data = datasets.FashionMNIST(train = True,\n",
        "                                      root = 'data',\n",
        "                                      download = True,\n",
        "                                      transform = transforms.ToTensor())\n",
        "testing_data = datasets.FashionMNIST(train = False,\n",
        "                                      root = 'data',\n",
        "                                      download = True,\n",
        "                                      transform = transforms.ToTensor())"
      ],
      "metadata": {
        "id": "0oROvHPCrWuY"
      },
      "execution_count": 51,
      "outputs": []
    },
    {
      "cell_type": "code",
      "source": [
        "class_names = training_data.classes\n",
        "img, label = training_data[0]\n",
        "img.shape"
      ],
      "metadata": {
        "colab": {
          "base_uri": "https://localhost:8080/"
        },
        "id": "c2qvQ7QssOTW",
        "outputId": "0e2afc03-7909-450c-fa94-f220e95d3696"
      },
      "execution_count": 52,
      "outputs": [
        {
          "output_type": "execute_result",
          "data": {
            "text/plain": [
              "torch.Size([1, 28, 28])"
            ]
          },
          "metadata": {},
          "execution_count": 52
        }
      ]
    },
    {
      "cell_type": "code",
      "source": [
        "len(training_data.data), len(testing_data.data), len(training_data.targets), len(testing_data.targets)"
      ],
      "metadata": {
        "colab": {
          "base_uri": "https://localhost:8080/"
        },
        "id": "M1ZhBGWzuCQw",
        "outputId": "15c90a4e-78ad-4856-ca4c-0bb9bb4f0276"
      },
      "execution_count": 53,
      "outputs": [
        {
          "output_type": "execute_result",
          "data": {
            "text/plain": [
              "(60000, 10000, 60000, 10000)"
            ]
          },
          "metadata": {},
          "execution_count": 53
        }
      ]
    },
    {
      "cell_type": "code",
      "source": [
        "fig = plt.figure(figsize=(7, 7))\n",
        "rows, columns = 3, 3\n",
        "for i in range(1, rows*columns+1):\n",
        "  id = torch.randint(0, len(training_data), size=[1]).item()\n",
        "  img, label = training_data[id]\n",
        "  fig.add_subplot(rows, columns, i)\n",
        "  plt.imshow(img.squeeze(), cmap='gray')\n",
        "  plt.title(class_names[label])\n",
        "  plt.axis(False)\n"
      ],
      "metadata": {
        "colab": {
          "base_uri": "https://localhost:8080/",
          "height": 427
        },
        "id": "XNefpNA4uwJU",
        "outputId": "f02919b4-3b3c-409a-e9e3-0e98cbdad823"
      },
      "execution_count": 54,
      "outputs": [
        {
          "output_type": "display_data",
          "data": {
            "text/plain": [
              "<Figure size 504x504 with 9 Axes>"
            ],
            "image/png": "[encoded data removed]"
          },
          "metadata": {
            "needs_background": "light"
          }
        }
      ]
    },
    {
      "cell_type": "code",
      "source": [
        "BACTH_SIZE = 32\n",
        "\n",
        "LEARNING_RATE = 0.1\n",
        "\n",
        "EPOCHS = 3"
      ],
      "metadata": {
        "id": "mqAxqIYQYCap"
      },
      "execution_count": 55,
      "outputs": []
    },
    {
      "cell_type": "code",
      "source": [
        "train_loader = DataLoader(training_data, batch_size=BACTH_SIZE, shuffle=True)\n",
        "test_loader = DataLoader(testing_data, batch_size=BACTH_SIZE, shuffle=False)"
      ],
      "metadata": {
        "id": "_URu3jrswM_N"
      },
      "execution_count": 56,
      "outputs": []
    },
    {
      "cell_type": "code",
      "source": [
        "batched_trian, batched_label = next(iter(train_loader))\n",
        "batched_trian.shape, batched_label.shape"
      ],
      "metadata": {
        "colab": {
          "base_uri": "https://localhost:8080/"
        },
        "id": "SomlpQpsygDW",
        "outputId": "a38b3431-b3d5-46c4-e30b-9dd1cd1ce75d"
      },
      "execution_count": 57,
      "outputs": [
        {
          "output_type": "execute_result",
          "data": {
            "text/plain": [
              "(torch.Size([32, 1, 28, 28]), torch.Size([32]))"
            ]
          },
          "metadata": {},
          "execution_count": 57
        }
      ]
    },
    {
      "cell_type": "code",
      "source": [
        "class TinyVGG(nn.Module):\n",
        "  def __init__(self, input_shape: int, hidden_units: int, output_shape: int) -> None:\n",
        "    super().__init__()\n",
        "\n",
        "    self.conv_block_1 = nn.Sequential(\n",
        "              nn.Conv2d(in_channels=input_shape, \n",
        "                        out_channels=hidden_units, \n",
        "                        kernel_size=3, # how big is the square that's going over the image?\n",
        "                        stride=1, # default\n",
        "                        padding=1), # options = \"valid\" (no padding) or \"same\" (output has same shape as input) or int for specific number \n",
        "              nn.ReLU(),\n",
        "              nn.Conv2d(in_channels=hidden_units, \n",
        "                        out_channels=hidden_units,\n",
        "                        kernel_size=3,\n",
        "                        stride=1,\n",
        "                        padding=1),\n",
        "              nn.ReLU(),\n",
        "              nn.MaxPool2d(kernel_size=2,stride=2) # default stride value is same as kernel_size\n",
        "          )\n",
        "    self.conv_block_2 = nn.Sequential(\n",
        "        nn.Conv2d(hidden_units, hidden_units, kernel_size=3, padding=1),\n",
        "        nn.ReLU(),\n",
        "        nn.Conv2d(hidden_units, hidden_units, kernel_size=3, padding=1),\n",
        "        nn.ReLU(),\n",
        "        nn.MaxPool2d(2)\n",
        "    )\n",
        "    self.classifier = nn.Sequential(\n",
        "        nn.Flatten(),\n",
        "        nn.Linear(in_features=hidden_units*7*7,\n",
        "                  out_features=output_shape)\n",
        "    )\n",
        "\n",
        "  def forward(self, x: torch.Tensor):\n",
        "\n",
        "    return self.classifier(self.conv_block_2(self.conv_block_1(x)))\n"
      ],
      "metadata": {
        "id": "x7K01vsEygBS"
      },
      "execution_count": 58,
      "outputs": []
    },
    {
      "cell_type": "code",
      "source": [
        "torch.manual_seed(42)\n",
        "\n",
        "model_0 =  TinyVGG(input_shape = 1,\n",
        "                   hidden_units= 10,\n",
        "                   output_shape=len(training_data.classes)).to(device)"
      ],
      "metadata": {
        "id": "crnFm8mzeag1"
      },
      "execution_count": 59,
      "outputs": []
    },
    {
      "cell_type": "markdown",
      "source": [
        "Trying forward pass on a single image to check shape and just to see if it works"
      ],
      "metadata": {
        "id": "3-BcyrrNfFjK"
      }
    },
    {
      "cell_type": "code",
      "source": [
        "img_batch, label_batch = next(iter(train_loader))\n",
        "\n",
        "img, label = img_batch, label_batch[0]\n",
        "print(f\"Single image shape: {img.shape}\\n\")\n",
        "\n",
        "model_0.eval()\n",
        "with torch.inference_mode():\n",
        "\n",
        "  pred = model_0(img.to(device))"
      ],
      "metadata": {
        "colab": {
          "base_uri": "https://localhost:8080/"
        },
        "id": "5Or3c6iCfjBq",
        "outputId": "3136ddb7-268b-411f-c532-a35af7e2c554"
      },
      "execution_count": 60,
      "outputs": [
        {
          "output_type": "stream",
          "name": "stdout",
          "text": [
            "Single image shape: torch.Size([32, 1, 28, 28])\n",
            "\n"
          ]
        }
      ]
    },
    {
      "cell_type": "markdown",
      "source": [
        "Loss and optimisers"
      ],
      "metadata": {
        "id": "NJM2ELImXlPp"
      }
    },
    {
      "cell_type": "code",
      "source": [
        "loss_fn = nn.CrossEntropyLoss()\n",
        "\n",
        "optimizer = torch.optim.SGD(model_0.parameters(), lr=LEARNING_RATE)"
      ],
      "metadata": {
        "id": "Rx9J-vC7Xo9Z"
      },
      "execution_count": 61,
      "outputs": []
    },
    {
      "cell_type": "markdown",
      "source": [
        "Training  Loop"
      ],
      "metadata": {
        "id": "1YdnStbkXiJv"
      }
    },
    {
      "cell_type": "code",
      "source": [
        "torch.manual_seed(42)\n",
        "\n",
        "start_time = timer()\n",
        "\n",
        "for epoch in tqdm(range(EPOCHS)):\n",
        "\n",
        "  print(f' Epochs_no : {epoch}')\n",
        "\n",
        "  train_step(data_loader=train_loader, \n",
        "        model=model_0, \n",
        "        loss_fn=loss_fn,\n",
        "        optimizer=optimizer,\n",
        "        accuracy_fn=accuracy_fn,\n",
        "    )\n",
        "  test_step(data_loader=test_loader,\n",
        "      model=model_0,\n",
        "      loss_fn=loss_fn,\n",
        "      accuracy_fn=accuracy_fn,\n",
        "  )\n",
        "\n",
        "end_time = timer()\n",
        "\n",
        "\n",
        "total_train_time_model_1 = print_train_time(start=start_time,\n",
        "                                            end=end_time,\n",
        "                                            device=device)"
      ],
      "metadata": {
        "id": "ondDUrKIYa0A",
        "colab": {
          "base_uri": "https://localhost:8080/",
          "height": 292,
          "referenced_widgets": [
            "63ab7cb7b6894bd69b72ce6179527351",
            "44ef14aa10ec45d0a7dfd5ce760b2153",
            "339b8fb9b301491aade1b6f055e8d78a",
            "5d87db6f7aa64dde82007d6f9bf1eae0",
            "d9ffdd3f48914ad1a6182c5f7f1e332a",
            "a6706c9615ed4db9befbe37e2fa3ab78",
            "55bafbb4488441b4adba0a4d8804602d",
            "05540327ffa743eca35746ec0ebff1d9",
            "0199140b162f427cb38f52639020e0c4",
            "a8d9a7ae9f9c49f39c54d4317581cf70",
            "daf7201a4cd94655a6ab8b94f03bc529"
          ]
        },
        "outputId": "30cbc60f-2f9e-41be-da92-ec0775f3c4da"
      },
      "execution_count": 62,
      "outputs": [
        {
          "output_type": "display_data",
          "data": {
            "text/plain": [
              "  0%|          | 0/3 [00:00<?, ?it/s]"
            ],
            "application/vnd.jupyter.widget-view+json": {
              "version_major": 2,
              "version_minor": 0,
              "model_id": "63ab7cb7b6894bd69b72ce6179527351"
            }
          },
          "metadata": {}
        },
        {
          "output_type": "stream",
          "name": "stdout",
          "text": [
            " Epochs_no : 0\n",
            "Train loss: 0.59667 | Train accuracy: 78.29%\n",
            "Test loss: 0.39901 | Test accuracy: 85.71%\n",
            "\n",
            " Epochs_no : 1\n",
            "Train loss: 0.36258 | Train accuracy: 86.95%\n",
            "Test loss: 0.34922 | Test accuracy: 87.18%\n",
            "\n",
            " Epochs_no : 2\n",
            "Train loss: 0.32573 | Train accuracy: 88.25%\n",
            "Test loss: 0.31573 | Test accuracy: 88.46%\n",
            "\n",
            "\n",
            "Train time on cuda: 31.144 seconds\n"
          ]
        }
      ]
    },
    {
      "cell_type": "code",
      "source": [
        "import random\n",
        "\n",
        "test_samples = []\n",
        "test_labels = []\n",
        "\n",
        "for img, label in random.sample(list(testing_data), k=9):\n",
        "\n",
        "  test_samples.append(img)\n",
        "  test_labels.append(label)"
      ],
      "metadata": {
        "id": "iqZPvSDNn3Ls"
      },
      "execution_count": 112,
      "outputs": []
    },
    {
      "cell_type": "code",
      "source": [
        "def make_predictions(model: torch.nn.Module, data, device:torch.device=device):\n",
        "\n",
        "  pred_probability = []\n",
        "\n",
        "  model.eval()\n",
        "  with torch.inference_mode():\n",
        "    for img in data:\n",
        "      img = torch.unsqueeze(img, dim=0).to(device)\n",
        "\n",
        "      logits = model(img)\n",
        "\n",
        "      pred_prob = torch.softmax(logits.squeeze(), dim=0)\n",
        "\n",
        "      pred_probability.append(pred_prob.cpu())\n",
        "\n",
        "  return torch.stack(pred_probability)"
      ],
      "metadata": {
        "id": "aWrnQox3_gLL"
      },
      "execution_count": 113,
      "outputs": []
    },
    {
      "cell_type": "code",
      "source": [
        "predicitions = make_predictions(model = model_0, data = test_samples, device=device)"
      ],
      "metadata": {
        "id": "b4RTGr33A4LT"
      },
      "execution_count": 114,
      "outputs": []
    },
    {
      "cell_type": "code",
      "source": [
        "pred_classes = predicitions.argmax(dim=1)"
      ],
      "metadata": {
        "id": "9i6Qzj3DBCTE"
      },
      "execution_count": 115,
      "outputs": []
    },
    {
      "cell_type": "code",
      "source": [
        "test_labels, pred_classes"
      ],
      "metadata": {
        "colab": {
          "base_uri": "https://localhost:8080/"
        },
        "id": "uEma8DhaBjla",
        "outputId": "c3878d2f-c117-47ce-f876-20548d720d1e"
      },
      "execution_count": 116,
      "outputs": [
        {
          "output_type": "execute_result",
          "data": {
            "text/plain": [
              "([5, 3, 1, 9, 2, 7, 3, 8, 3], tensor([5, 3, 1, 9, 2, 7, 3, 8, 3]))"
            ]
          },
          "metadata": {},
          "execution_count": 116
        }
      ]
    },
    {
      "cell_type": "code",
      "source": [
        "# Plot predictions\n",
        "plt.figure(figsize=(9, 9))\n",
        "nrows = 3\n",
        "ncols = 3\n",
        "for i, sample in enumerate(test_samples):\n",
        "  # Create a subplot\n",
        "  plt.subplot(nrows, ncols, i+1)\n",
        "\n",
        "  plt.imshow(sample.squeeze(), cmap='gray')\n",
        "\n",
        "  pred_labels = class_names[pred_classes[i]]\n",
        "\n",
        "  true_labels = class_names[test_labels[i]]\n",
        "\n",
        "  title = f'prediction: {pred_labels} | truth: {true_labels}'\n",
        "\n",
        "\n",
        "  if pred_labels == true_labels:\n",
        "\n",
        "    plt.title(title, c='g', size=10)\n",
        "\n",
        "  else:\n",
        "\n",
        "    plt.title(title, c='r', size=10)\n",
        "\n",
        "  plt.axis(False);\n",
        "  \n"
      ],
      "metadata": {
        "colab": {
          "base_uri": "https://localhost:8080/",
          "height": 534
        },
        "id": "rI5lgaE7BlnB",
        "outputId": "b1d35df0-e8f8-4192-fe26-848e71320a01"
      },
      "execution_count": 117,
      "outputs": [
        {
          "output_type": "display_data",
          "data": {
            "text/plain": [
              "<Figure size 648x648 with 9 Axes>"
            ],
            "image/png": "[encoded data removed]"
          },
          "metadata": {
            "needs_background": "light"
          }
        }
      ]
    },
    {
      "cell_type": "code",
      "source": [
        ""
      ],
      "metadata": {
        "id": "eoEVh2IiCPO8"
      },
      "execution_count": null,
      "outputs": []
    }
  ]
}